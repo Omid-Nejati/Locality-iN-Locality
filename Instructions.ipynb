{
  "cells": [
    {
      "cell_type": "code",
      "execution_count": 1,
      "metadata": {
        "id": "4a6s7HyouFQN",
        "colab": {
          "base_uri": "https://localhost:8080/"
        },
        "outputId": "e43560f1-e517-4ea2-c9d0-fd2fe46777e1"
      },
      "outputs": [
        {
          "output_type": "stream",
          "name": "stdout",
          "text": [
            "Tue Apr 25 07:43:42 2023       \n",
            "+-----------------------------------------------------------------------------+\n",
            "| NVIDIA-SMI 525.85.12    Driver Version: 525.85.12    CUDA Version: 12.0     |\n",
            "|-------------------------------+----------------------+----------------------+\n",
            "| GPU  Name        Persistence-M| Bus-Id        Disp.A | Volatile Uncorr. ECC |\n",
            "| Fan  Temp  Perf  Pwr:Usage/Cap|         Memory-Usage | GPU-Util  Compute M. |\n",
            "|                               |                      |               MIG M. |\n",
            "|===============================+======================+======================|\n",
            "|   0  Tesla T4            Off  | 00000000:00:04.0 Off |                    0 |\n",
            "| N/A   64C    P8    10W /  70W |      0MiB / 15360MiB |      0%      Default |\n",
            "|                               |                      |                  N/A |\n",
            "+-------------------------------+----------------------+----------------------+\n",
            "                                                                               \n",
            "+-----------------------------------------------------------------------------+\n",
            "| Processes:                                                                  |\n",
            "|  GPU   GI   CI        PID   Type   Process name                  GPU Memory |\n",
            "|        ID   ID                                                   Usage      |\n",
            "|=============================================================================|\n",
            "|  No running processes found                                                 |\n",
            "+-----------------------------------------------------------------------------+\n"
          ]
        }
      ],
      "source": [
        "!nvidia-smi"
      ]
    },
    {
      "cell_type": "code",
      "execution_count": 15,
      "metadata": {
        "colab": {
          "base_uri": "https://localhost:8080/"
        },
        "id": "HxxnIMq3OvDl",
        "outputId": "da002e25-c2e9-489b-afae-eb60af306069"
      },
      "outputs": [
        {
          "output_type": "stream",
          "name": "stdout",
          "text": [
            "Cloning into 'Locality-iN-Locality'...\n",
            "remote: Enumerating objects: 36, done.\u001b[K\n",
            "remote: Counting objects: 100% (36/36), done.\u001b[K\n",
            "remote: Compressing objects: 100% (33/33), done.\u001b[K\n",
            "remote: Total 36 (delta 8), reused 0 (delta 0), pack-reused 0\u001b[K\n",
            "Unpacking objects: 100% (36/36), 40.40 KiB | 3.37 MiB/s, done.\n"
          ]
        }
      ],
      "source": [
        "!git clone https://github.com/Omid-Nejati/Locality-iN-Locality.git"
      ]
    },
    {
      "cell_type": "code",
      "source": [
        "cd /content/Locality-iN-Locality"
      ],
      "metadata": {
        "colab": {
          "base_uri": "https://localhost:8080/"
        },
        "id": "MjV2TmKgVrMt",
        "outputId": "256503c3-052a-455c-8404-be7623a79733"
      },
      "execution_count": 16,
      "outputs": [
        {
          "output_type": "stream",
          "name": "stdout",
          "text": [
            "/content/Locality-iN-Locality\n"
          ]
        }
      ]
    },
    {
      "cell_type": "code",
      "execution_count": 4,
      "metadata": {
        "colab": {
          "base_uri": "https://localhost:8080/"
        },
        "id": "TKJ8nMOpM6oA",
        "outputId": "907a9a3f-9ced-4317-8e71-6fae0e2aca25"
      },
      "outputs": [
        {
          "output_type": "stream",
          "name": "stdout",
          "text": [
            "Looking in indexes: https://pypi.org/simple, https://us-python.pkg.dev/colab-wheels/public/simple/\n",
            "Collecting torchattacks\n",
            "  Downloading torchattacks-3.4.0-py3-none-any.whl (154 kB)\n",
            "\u001b[2K     \u001b[90m━━━━━━━━━━━━━━━━━━━━━━━━━━━━━━━━━━━━━━\u001b[0m \u001b[32m154.7/154.7 kB\u001b[0m \u001b[31m11.7 MB/s\u001b[0m eta \u001b[36m0:00:00\u001b[0m\n",
            "\u001b[?25hRequirement already satisfied: numpy>=1.19.4 in /usr/local/lib/python3.9/dist-packages (from torchattacks) (1.22.4)\n",
            "Requirement already satisfied: tqdm>=4.56.1 in /usr/local/lib/python3.9/dist-packages (from torchattacks) (4.65.0)\n",
            "Requirement already satisfied: scipy>=0.14.0 in /usr/local/lib/python3.9/dist-packages (from torchattacks) (1.10.1)\n",
            "Requirement already satisfied: torchvision>=0.8.2 in /usr/local/lib/python3.9/dist-packages (from torchattacks) (0.15.1+cu118)\n",
            "Collecting requests~=2.25.1\n",
            "  Downloading requests-2.25.1-py2.py3-none-any.whl (61 kB)\n",
            "\u001b[2K     \u001b[90m━━━━━━━━━━━━━━━━━━━━━━━━━━━━━━━━━━━━━━━━\u001b[0m \u001b[32m61.2/61.2 kB\u001b[0m \u001b[31m9.9 MB/s\u001b[0m eta \u001b[36m0:00:00\u001b[0m\n",
            "\u001b[?25hRequirement already satisfied: torch>=1.7.1 in /usr/local/lib/python3.9/dist-packages (from torchattacks) (2.0.0+cu118)\n",
            "Collecting idna<3,>=2.5\n",
            "  Downloading idna-2.10-py2.py3-none-any.whl (58 kB)\n",
            "\u001b[2K     \u001b[90m━━━━━━━━━━━━━━━━━━━━━━━━━━━━━━━━━━━━━━━━\u001b[0m \u001b[32m58.8/58.8 kB\u001b[0m \u001b[31m9.4 MB/s\u001b[0m eta \u001b[36m0:00:00\u001b[0m\n",
            "\u001b[?25hRequirement already satisfied: chardet<5,>=3.0.2 in /usr/local/lib/python3.9/dist-packages (from requests~=2.25.1->torchattacks) (4.0.0)\n",
            "Requirement already satisfied: certifi>=2017.4.17 in /usr/local/lib/python3.9/dist-packages (from requests~=2.25.1->torchattacks) (2022.12.7)\n",
            "Requirement already satisfied: urllib3<1.27,>=1.21.1 in /usr/local/lib/python3.9/dist-packages (from requests~=2.25.1->torchattacks) (1.26.15)\n",
            "Requirement already satisfied: typing-extensions in /usr/local/lib/python3.9/dist-packages (from torch>=1.7.1->torchattacks) (4.5.0)\n",
            "Requirement already satisfied: sympy in /usr/local/lib/python3.9/dist-packages (from torch>=1.7.1->torchattacks) (1.11.1)\n",
            "Requirement already satisfied: filelock in /usr/local/lib/python3.9/dist-packages (from torch>=1.7.1->torchattacks) (3.11.0)\n",
            "Requirement already satisfied: triton==2.0.0 in /usr/local/lib/python3.9/dist-packages (from torch>=1.7.1->torchattacks) (2.0.0)\n",
            "Requirement already satisfied: jinja2 in /usr/local/lib/python3.9/dist-packages (from torch>=1.7.1->torchattacks) (3.1.2)\n",
            "Requirement already satisfied: networkx in /usr/local/lib/python3.9/dist-packages (from torch>=1.7.1->torchattacks) (3.1)\n",
            "Requirement already satisfied: cmake in /usr/local/lib/python3.9/dist-packages (from triton==2.0.0->torch>=1.7.1->torchattacks) (3.25.2)\n",
            "Requirement already satisfied: lit in /usr/local/lib/python3.9/dist-packages (from triton==2.0.0->torch>=1.7.1->torchattacks) (16.0.1)\n",
            "Requirement already satisfied: pillow!=8.3.*,>=5.3.0 in /usr/local/lib/python3.9/dist-packages (from torchvision>=0.8.2->torchattacks) (8.4.0)\n",
            "Requirement already satisfied: MarkupSafe>=2.0 in /usr/local/lib/python3.9/dist-packages (from jinja2->torch>=1.7.1->torchattacks) (2.1.2)\n",
            "Requirement already satisfied: mpmath>=0.19 in /usr/local/lib/python3.9/dist-packages (from sympy->torch>=1.7.1->torchattacks) (1.3.0)\n",
            "Installing collected packages: idna, requests, torchattacks\n",
            "  Attempting uninstall: idna\n",
            "    Found existing installation: idna 3.4\n",
            "    Uninstalling idna-3.4:\n",
            "      Successfully uninstalled idna-3.4\n",
            "  Attempting uninstall: requests\n",
            "    Found existing installation: requests 2.27.1\n",
            "    Uninstalling requests-2.27.1:\n",
            "      Successfully uninstalled requests-2.27.1\n",
            "\u001b[31mERROR: pip's dependency resolver does not currently take into account all the packages that are installed. This behaviour is the source of the following dependency conflicts.\n",
            "yfinance 0.2.18 requires requests>=2.26, but you have requests 2.25.1 which is incompatible.\n",
            "tweepy 4.13.0 requires requests<3,>=2.27.0, but you have requests 2.25.1 which is incompatible.\n",
            "google-colab 1.0.0 requires requests>=2.27.0, but you have requests 2.25.1 which is incompatible.\u001b[0m\u001b[31m\n",
            "\u001b[0mSuccessfully installed idna-2.10 requests-2.25.1 torchattacks-3.4.0\n"
          ]
        }
      ],
      "source": [
        "pip install torchattacks"
      ]
    },
    {
      "cell_type": "code",
      "execution_count": 5,
      "metadata": {
        "id": "54RbB_T2LhUh"
      },
      "outputs": [],
      "source": [
        "import os\n",
        "import sys\n",
        "import numpy as np\n",
        "import matplotlib.pyplot as plt\n",
        "%matplotlib inline\n",
        "\n",
        "import torch\n",
        "import torch.nn as nn\n",
        "import torch.optim as optim\n",
        "\n",
        "import torchvision.utils\n",
        "from torchvision import models\n",
        "import torchvision.datasets as dsets\n",
        "import torchvision.transforms as transforms\n",
        "\n",
        "import torchattacks\n",
        "from torchattacks import PGD, FGSM\n",
        "from torchsummary import summary"
      ]
    },
    {
      "cell_type": "code",
      "execution_count": 6,
      "metadata": {
        "colab": {
          "base_uri": "https://localhost:8080/"
        },
        "id": "mLUJKO78LkyJ",
        "outputId": "372667f6-6b54-4ad5-8d41-6f668ee18d6f"
      },
      "outputs": [
        {
          "output_type": "stream",
          "name": "stdout",
          "text": [
            "PyTorch 2.0.0+cu118\n",
            "Torchvision 0.15.1+cu118\n",
            "Torchattacks 3.4.0\n",
            "Numpy 1.22.4\n"
          ]
        }
      ],
      "source": [
        "print(\"PyTorch\", torch.__version__)\n",
        "print(\"Torchvision\", torchvision.__version__)\n",
        "print(\"Torchattacks\", torchattacks.__version__)\n",
        "print(\"Numpy\", np.__version__)"
      ]
    },
    {
      "cell_type": "markdown",
      "metadata": {
        "id": "OZo2TQeZw9Ne"
      },
      "source": [
        "## GTSRB"
      ]
    },
    {
      "cell_type": "code",
      "execution_count": 26,
      "metadata": {
        "colab": {
          "base_uri": "https://localhost:8080/"
        },
        "id": "gjzBnIi3Boev",
        "outputId": "f78cedcf-ee5e-4712-844c-ea0d3f967f0a"
      },
      "outputs": [
        {
          "output_type": "stream",
          "name": "stdout",
          "text": [
            "  % Total    % Received % Xferd  Average Speed   Time    Time     Time  Current\n",
            "                                 Dload  Upload   Total   Spent    Left  Speed\n",
            "100  263M  100  263M    0     0  11.6M      0  0:00:22  0:00:22 --:--:-- 13.2M\n",
            "  % Total    % Received % Xferd  Average Speed   Time    Time     Time  Current\n",
            "                                 Dload  Upload   Total   Spent    Left  Speed\n",
            "100 84.8M  100 84.8M    0     0  9287k      0  0:00:09  0:00:09 --:--:-- 12.5M\n",
            "  % Total    % Received % Xferd  Average Speed   Time    Time     Time  Current\n",
            "                                 Dload  Upload   Total   Spent    Left  Speed\n",
            "100 99620  100 99620    0     0  46726      0  0:00:02  0:00:02 --:--:-- 46726\n"
          ]
        }
      ],
      "source": [
        "!mkdir data\n",
        "\n",
        "!curl --url https://sid.erda.dk/public/archives/daaeac0d7ce1152aea9b61d9f1e19370/GTSRB_Final_Training_Images.zip -o data/GTSRB_Final_Training_Images.zip\n",
        "!curl --url https://sid.erda.dk/public/archives/daaeac0d7ce1152aea9b61d9f1e19370/GTSRB_Final_Test_Images.zip -o data/GTSRB_Final_Test_Images.zip\n",
        "!curl --url https://sid.erda.dk/public/archives/daaeac0d7ce1152aea9b61d9f1e19370/GTSRB_Final_Test_GT.zip -o data/GTSRB_Final_Test_GT.zip"
      ]
    },
    {
      "cell_type": "code",
      "execution_count": 27,
      "metadata": {
        "colab": {
          "base_uri": "https://localhost:8080/"
        },
        "id": "aJZlwjWPIg6D",
        "outputId": "451065b0-fade-44c4-d5c1-ff7b2280bc2a"
      },
      "outputs": [
        {
          "output_type": "stream",
          "name": "stdout",
          "text": [
            "Archive:  data/GTSRB_Final_Test_GT.zip\n",
            "  inflating: data/GT-final_test.csv  \n"
          ]
        }
      ],
      "source": [
        "!unzip data/GTSRB_Final_Training_Images.zip -d data/ > /dev/null 2>&1\n",
        "!unzip data/GTSRB_Final_Test_Images.zip -d data/ > /dev/null 2>&1\n",
        "!unzip data/GTSRB_Final_Test_GT.zip -d data/"
      ]
    },
    {
      "cell_type": "code",
      "execution_count": 28,
      "metadata": {
        "id": "o4TDy__jxN7z"
      },
      "outputs": [],
      "source": [
        "import shutil"
      ]
    },
    {
      "cell_type": "code",
      "execution_count": 29,
      "metadata": {
        "id": "555qsNx4xPtP"
      },
      "outputs": [],
      "source": [
        "data_dir = './data/GTSRB'\n",
        "images_dir = os.path.join(data_dir, 'Final_Test/Images')\n",
        "\n",
        "test_dir = os.path.join(data_dir, 'test')\n",
        "os.makedirs(test_dir, exist_ok=True)\n",
        "\n",
        "\n",
        "\n",
        "with open('./data/GT-final_test.csv') as f:\n",
        "  image_names = f.readlines()\n",
        "\n",
        "for text in image_names[1:]:\n",
        "  classes = int(text.split(';')[-1])\n",
        "  image_name = text.split(';')[0]\n",
        "  \n",
        "\n",
        "  test_class_dir = os.path.join(test_dir, f\"{classes:04d}\")\n",
        "  os.makedirs(test_class_dir, exist_ok=True)\n",
        "  image_path = os.path.join(images_dir, image_name)\n",
        "\n",
        "  shutil.copy(image_path, test_class_dir)"
      ]
    },
    {
      "cell_type": "code",
      "execution_count": null,
      "metadata": {
        "id": "ZUybGdLwrjpm"
      },
      "outputs": [],
      "source": [
        "#Affine = transforms.RandomApply([transforms.RandomAffine(degrees=(0, 30),shear=(0.1, 0.2))], p=0.7)\n",
        "#GaussianBlur = transforms.RandomApply([transforms.GaussianBlur((3,7) , sigma=(5))], p=0.7)\n",
        "#Perspective = transforms.RandomPerspective(0.5, p = 0.7) \n",
        "#HSV1 = transforms.RandomApply([transforms.ColorJitter(brightness=0.3, contrast=.2)], p=0.7)\n",
        "#HSV2 = transforms.RandomApply([transforms.ColorJitter(saturation= .2, hue=0.2)], p=0.7)\n",
        "#miror = transforms.RandomHorizontalFlip(p=0.7)\n",
        "#Randomcrop = transforms.RandomApply([transforms.RandomResizedCrop(100)], p=0.7)\n",
        "\n",
        "#transform_list = [GaussianBlur, Affine, Perspective, HSV1, HSV2, Randomcrop]\n",
        "                   "
      ]
    },
    {
      "cell_type": "code",
      "execution_count": 30,
      "metadata": {
        "id": "R-yoXRLIxlOF"
      },
      "outputs": [],
      "source": [
        "batch_size = 15\n",
        "\n",
        "trainset = torchvision.datasets.ImageFolder(root='./data/GTSRB/Final_Training/Images',\n",
        "                                                transform=transforms.Compose([                   \n",
        "                                                          transforms.Resize((224,224)),\n",
        "                                                          transforms.ToTensor(),\n",
        "                                                          ]),\n",
        "                                               )\n",
        "\n",
        "testset = torchvision.datasets.ImageFolder(root='./data/GTSRB/test',\n",
        "                                                transform=transforms.Compose([                    \n",
        "                                                          transforms.Resize((224,224)),\n",
        "                                                          transforms.ToTensor(),\n",
        "                                                          ]),\n",
        "                                               )\n",
        "\n",
        "train_loader = torch.utils.data.DataLoader(dataset=trainset,\n",
        "                                         batch_size=batch_size,\n",
        "                                         shuffle=True\n",
        "                                         )\n",
        "\n",
        "test_loader = torch.utils.data.DataLoader(dataset=testset,\n",
        "                                         batch_size=batch_size,\n",
        "                                         shuffle=True\n",
        "                                         )"
      ]
    },
    {
      "cell_type": "code",
      "execution_count": 12,
      "metadata": {
        "id": "ocESRSGU0FW3"
      },
      "outputs": [],
      "source": [
        "batch = next(iter(train_loader))\n",
        "train_data = batch[0]"
      ]
    },
    {
      "cell_type": "code",
      "execution_count": 13,
      "metadata": {
        "id": "5uzuyzme0LMV"
      },
      "outputs": [],
      "source": [
        "import numpy as np\n",
        "import matplotlib.pyplot as plt\n",
        "\n",
        "def normalize_image(image):\n",
        "    image_min = image.min()\n",
        "    image_max = image.max()\n",
        "    image.clamp_(min = image_min, max = image_max)\n",
        "    image.add_(-image_min).div_(image_max - image_min + 1e-5)\n",
        "    return image\n",
        "\n",
        "def plot_images(images, labels, classes, normalize=True):\n",
        "\n",
        "    n_images = len(images)\n",
        "\n",
        "    rows = int(np.sqrt(n_images))\n",
        "    cols = int(np.sqrt(n_images))\n",
        "\n",
        "    fig = plt.figure(figsize=(20, 20))\n",
        "\n",
        "    for i in range(rows*cols):\n",
        "\n",
        "        ax = fig.add_subplot(rows, cols, i+1)\n",
        "        \n",
        "        image = images[i]\n",
        "\n",
        "        if normalize:\n",
        "            image = normalize_image(image)\n",
        "\n",
        "        ax.imshow(image.permute(1, 2, 0).cpu().numpy())\n",
        "        ax.set_title(classes[labels[i]])\n",
        "        ax.axis('off')"
      ]
    },
    {
      "cell_type": "code",
      "execution_count": null,
      "metadata": {
        "id": "S2hqsOSP0MvJ"
      },
      "outputs": [],
      "source": [
        "classes = trainset.classes\n",
        "\n",
        "plot_images(batch[0], batch[1], classes)"
      ]
    },
    {
      "cell_type": "markdown",
      "metadata": {
        "id": "nQhQyLGux9I7"
      },
      "source": [
        "## model"
      ]
    },
    {
      "cell_type": "code",
      "execution_count": null,
      "metadata": {
        "id": "bQ6v3NAG9fYP"
      },
      "outputs": [],
      "source": [
        "pip install timm"
      ]
    },
    {
      "cell_type": "code",
      "execution_count": 18,
      "metadata": {
        "colab": {
          "base_uri": "https://localhost:8080/"
        },
        "id": "ZDQG5AzjZve7",
        "outputId": "a973a020-26bc-49fb-b7a1-e9f03e7e6d66"
      },
      "outputs": [
        {
          "output_type": "stream",
          "name": "stdout",
          "text": [
            "Looking in indexes: https://pypi.org/simple, https://us-python.pkg.dev/colab-wheels/public/simple/\n",
            "Collecting einops\n",
            "  Downloading einops-0.6.1-py3-none-any.whl (42 kB)\n",
            "\u001b[2K     \u001b[90m━━━━━━━━━━━━━━━━━━━━━━━━━━━━━━━━━━━━━━━━\u001b[0m \u001b[32m42.2/42.2 kB\u001b[0m \u001b[31m6.2 MB/s\u001b[0m eta \u001b[36m0:00:00\u001b[0m\n",
            "\u001b[?25hInstalling collected packages: einops\n",
            "Successfully installed einops-0.6.1\n"
          ]
        }
      ],
      "source": [
        "pip install einops"
      ]
    },
    {
      "cell_type": "code",
      "execution_count": 19,
      "metadata": {
        "id": "6INnKw5CgxhO"
      },
      "outputs": [],
      "source": [
        "from LNL import LNL_Ti as small"
      ]
    },
    {
      "cell_type": "code",
      "execution_count": 20,
      "metadata": {
        "id": "qaltBjtFLzDY"
      },
      "outputs": [],
      "source": [
        "model = small(pretrained=False)"
      ]
    },
    {
      "cell_type": "code",
      "execution_count": 21,
      "metadata": {
        "colab": {
          "base_uri": "https://localhost:8080/"
        },
        "id": "5RQHPbgzO_f3",
        "outputId": "16f6bde9-7674-4816-a66a-6296f34acb79"
      },
      "outputs": [
        {
          "output_type": "execute_result",
          "data": {
            "text/plain": [
              "Linear(in_features=192, out_features=1000, bias=True)"
            ]
          },
          "metadata": {},
          "execution_count": 21
        }
      ],
      "source": [
        "model.head"
      ]
    },
    {
      "cell_type": "code",
      "execution_count": 22,
      "metadata": {
        "id": "5NAtqZ4i0Jd_"
      },
      "outputs": [],
      "source": [
        "model.head = torch.nn.Linear(in_features=192, out_features=43, bias=True)"
      ]
    },
    {
      "cell_type": "code",
      "execution_count": 23,
      "metadata": {
        "id": "vc3hfiUizfBZ"
      },
      "outputs": [],
      "source": [
        "model = model.cuda()"
      ]
    },
    {
      "cell_type": "markdown",
      "metadata": {
        "id": "BN4iZCuV0dxV"
      },
      "source": [
        "## Train Locality-iN-Locality"
      ]
    },
    {
      "cell_type": "code",
      "source": [
        "num_epochs = 5"
      ],
      "metadata": {
        "id": "3PaspxAAYxEW"
      },
      "execution_count": 32,
      "outputs": []
    },
    {
      "cell_type": "code",
      "execution_count": 24,
      "metadata": {
        "id": "Qt96e5yCLs5f"
      },
      "outputs": [],
      "source": [
        "loss = nn.CrossEntropyLoss()\n",
        "optimizer = optim.SGD(model.parameters(), lr=0.007, momentum=0.9)\n",
        "scheduler = torch.optim.lr_scheduler.StepLR(optimizer, step_size=30, gamma=0.1)"
      ]
    },
    {
      "cell_type": "code",
      "execution_count": null,
      "metadata": {
        "id": "S2341jKpOm28"
      },
      "outputs": [],
      "source": [
        "for epoch in range(num_epochs):\n",
        "\n",
        "    total_batch = len(trainset) // batch_size\n",
        "    \n",
        "    for i, (batch_images, batch_labels) in enumerate(train_loader):\n",
        "        X = batch_images.cuda()\n",
        "        Y = batch_labels.cuda()\n",
        "\n",
        "        pre = model(X)\n",
        "        cost = loss(pre, Y)\n",
        "\n",
        "        optimizer.zero_grad()\n",
        "        cost.backward()\n",
        "        optimizer.step()\n",
        "\n",
        "        if (i+1) % 200 == 0:\n",
        "            print('Epoch [%d/%d], lter [%d/%d], Loss: %.6f'\n",
        "                 %(epoch+1, num_epochs, i+1, total_batch, cost.item()))"
      ]
    },
    {
      "cell_type": "markdown",
      "source": [
        "## Test"
      ],
      "metadata": {
        "id": "Nu1krjk6WV2E"
      }
    },
    {
      "cell_type": "code",
      "execution_count": 34,
      "metadata": {
        "colab": {
          "base_uri": "https://localhost:8080/"
        },
        "id": "vFcRLBg9NmNr",
        "outputId": "32f76979-fdd6-4910-f181-46737dbb4bf9"
      },
      "outputs": [
        {
          "output_type": "stream",
          "name": "stdout",
          "text": [
            "Standard accuracy: 89.80 %\n"
          ]
        }
      ],
      "source": [
        "model.eval()\n",
        "correct = 0\n",
        "total = 0\n",
        "\n",
        "for images, labels in test_loader:\n",
        "    \n",
        "    images = images.cuda()\n",
        "    outputs = model(images)\n",
        "    \n",
        "    _, predicted = torch.max(outputs.data, 1)\n",
        "    \n",
        "    total += labels.size(0)\n",
        "    correct += (predicted == labels.cuda()).sum()\n",
        "    \n",
        "print('Standard accuracy: %.2f %%' % (100 * float(correct) / total))"
      ]
    },
    {
      "cell_type": "markdown",
      "source": [
        "## FGSM attack"
      ],
      "metadata": {
        "id": "wYRXVx3UWg42"
      }
    },
    {
      "cell_type": "code",
      "execution_count": null,
      "metadata": {
        "id": "wg-UyipdU8G4"
      },
      "outputs": [],
      "source": [
        "model.eval()\n",
        "\n",
        "correct = 0\n",
        "total = 0\n",
        "\n",
        "atk = FGSM(model, eps=0.01)\n",
        "\n",
        "for images, labels in test_loader:\n",
        "    \n",
        "    images = atk(images, labels).cuda()\n",
        "    outputs = model(images)\n",
        "    \n",
        "    _, predicted = torch.max(outputs.data, 1)\n",
        "    \n",
        "    total += labels.size(0)\n",
        "    correct += (predicted == labels.cuda()).sum()\n",
        "    \n",
        "print('Robust accuracy: %.2f %%' % (100 * float(correct) / total))"
      ]
    },
    {
      "cell_type": "markdown",
      "source": [
        "## PGD attack"
      ],
      "metadata": {
        "id": "NIY5yhUTWp-U"
      }
    },
    {
      "cell_type": "code",
      "execution_count": null,
      "metadata": {
        "id": "MFubmfeANRXN"
      },
      "outputs": [],
      "source": [
        "model.eval()\n",
        "\n",
        "correct = 0\n",
        "total = 0\n",
        "\n",
        "atk = PGD(model, eps=0.01, alpha=2/255, steps=5, random_start=False)\n",
        "\n",
        "for images, labels in test_loader:\n",
        "    \n",
        "    images = atk(images, labels).cuda()\n",
        "    outputs = model(images)\n",
        "    \n",
        "    _, predicted = torch.max(outputs.data, 1)\n",
        "    \n",
        "    total += labels.size(0)\n",
        "    correct += (predicted == labels.cuda()).sum()\n",
        "    \n",
        "print('Robust accuracy: %.2f %%' % (100 * float(correct) / total))"
      ]
    },
    {
      "cell_type": "markdown",
      "metadata": {
        "id": "zE6jJBQJ4iFP"
      },
      "source": [
        "## train LNL-MoEx"
      ]
    },
    {
      "cell_type": "code",
      "source": [
        "from LNL_MoEx import LNL_MoEx_Ti as small\n",
        "model = small(pretrained=False)\n",
        "model.head = torch.nn.Linear(in_features=192, out_features=43, bias=True)"
      ],
      "metadata": {
        "id": "K8mkLsM3XPMl"
      },
      "execution_count": 37,
      "outputs": []
    },
    {
      "cell_type": "code",
      "source": [
        "model = model.cuda()"
      ],
      "metadata": {
        "id": "0jaqnzDEXXXC"
      },
      "execution_count": 38,
      "outputs": []
    },
    {
      "cell_type": "code",
      "execution_count": 39,
      "metadata": {
        "id": "pu-WoSA14tCM"
      },
      "outputs": [],
      "source": [
        "import time\n",
        "# time.clock_gettime()"
      ]
    },
    {
      "cell_type": "code",
      "execution_count": 40,
      "metadata": {
        "id": "TBMi_zqaLxua"
      },
      "outputs": [],
      "source": [
        "num_epochs = 5\n",
        "moex_lam = .9\n",
        "moex_prob = .7"
      ]
    },
    {
      "cell_type": "code",
      "execution_count": 41,
      "metadata": {
        "id": "bWbpD3hx40dh"
      },
      "outputs": [],
      "source": [
        "loss = nn.CrossEntropyLoss()\n",
        "optimizer = optim.SGD(model.parameters(), lr=0.007, momentum=0.9)\n",
        "scheduler = torch.optim.lr_scheduler.StepLR(optimizer, step_size=30, gamma=0.1)"
      ]
    },
    {
      "cell_type": "code",
      "execution_count": null,
      "metadata": {
        "id": "dXJfTSvzMk4r"
      },
      "outputs": [],
      "source": [
        "for epoch in range(num_epochs):\n",
        "\n",
        "    total_batch = len(trainset) // batch_size\n",
        "    \n",
        "    for i, (input, target) in enumerate(train_loader):\n",
        "        input = input.cuda()\n",
        "        target = target.cuda()\n",
        "\n",
        "        prob = torch.rand(1).item()\n",
        "        if prob < moex_prob:\n",
        "            swap_index = torch.randperm(input.size(0), device=input.device)\n",
        "            with torch.no_grad():\n",
        "                target_a = target\n",
        "                target_b = target[swap_index]\n",
        "            output = model(input, swap_index=swap_index, moex_norm='pono', moex_epsilon=1e-5,\n",
        "                           moex_layer='stem', moex_positive_only=False)\n",
        "            lam = moex_lam\n",
        "            cost = loss(output, target_a) * lam + loss(output, target_b) * (1. - lam)\n",
        "        else:\n",
        "            # compute output\n",
        "            output = model(input)\n",
        "            # if args.prof >= 0: torch.cuda.nvtx.range_pop()\n",
        "            cost = loss(output, target)\n",
        "\n",
        "        # compute gradient and do SGD step\n",
        "\n",
        "        optimizer.zero_grad()\n",
        "        cost.backward()\n",
        "        optimizer.step()\n",
        "\n",
        "        if (i+1) % 200 == 0:\n",
        "            print('Epoch [%d/%d], lter [%d/%d], Loss: %.6f'\n",
        "                 %(epoch+1, num_epochs, i+1, total_batch, cost.item()))"
      ]
    },
    {
      "cell_type": "markdown",
      "source": [
        "## Number of Parameters"
      ],
      "metadata": {
        "id": "bZwxmkMkbnvW"
      }
    },
    {
      "cell_type": "code",
      "execution_count": null,
      "metadata": {
        "id": "K2ilisTCNhTY"
      },
      "outputs": [],
      "source": [
        "pip install ptflops"
      ]
    },
    {
      "cell_type": "code",
      "execution_count": null,
      "metadata": {
        "id": "Jigu0ofUM7eX"
      },
      "outputs": [],
      "source": [
        "pip install --upgrade git+https://github.com/sovrasov/flops-counter.pytorch.git"
      ]
    },
    {
      "cell_type": "code",
      "execution_count": null,
      "metadata": {
        "id": "HswG2v3Tpa1V"
      },
      "outputs": [],
      "source": [
        "import torch\n",
        "from ptflops import get_model_complexity_info\n",
        "\n",
        "with torch.cuda.device(0):\n",
        "  net = model\n",
        "  macs, params = get_model_complexity_info(net, (3, 224, 224), as_strings=True,\n",
        "                                           print_per_layer_stat=True, verbose=True)\n",
        "  print('{:<30}  {:<8}'.format('Computational complexity: ', macs))\n",
        "  print('{:<30}  {:<8}'.format('Number of parameters: ', params))\n"
      ]
    }
  ],
  "metadata": {
    "accelerator": "GPU",
    "colab": {
      "machine_shape": "hm",
      "provenance": []
    },
    "gpuClass": "standard",
    "kernelspec": {
      "display_name": "Python 3",
      "name": "python3"
    },
    "language_info": {
      "name": "python"
    }
  },
  "nbformat": 4,
  "nbformat_minor": 0
}